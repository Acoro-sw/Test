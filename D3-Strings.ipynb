{
 "cells": [
  {
   "cell_type": "code",
   "execution_count": null,
   "id": "5cedd9e1",
   "metadata": {},
   "outputs": [],
   "source": [
    "mi_texto = \"Esta es una prueba\"\n",
    "resultado = mi_texto[-6]\n",
    "print(resultado)\n"
   ]
  },
  {
   "cell_type": "code",
   "execution_count": null,
   "id": "16e59dd1",
   "metadata": {
    "scrolled": false
   },
   "outputs": [],
   "source": [
    "mi_texto = \"Esta es una prueba\"\n",
    "resultado = mi_texto.rindex(\"e\")\n",
    "print(resultado)"
   ]
  },
  {
   "cell_type": "markdown",
   "id": "d79202ec",
   "metadata": {},
   "source": [
    "### Extract Sub.string"
   ]
  },
  {
   "cell_type": "code",
   "execution_count": null,
   "id": "10a35ca2",
   "metadata": {},
   "outputs": [],
   "source": [
    "#from index 2 until index 6 (not included)\n",
    "\n",
    "texto = \"ABCDEFGHIJKLM\"\n",
    "extract = texto[2:6]\n",
    "print(extract)"
   ]
  },
  {
   "cell_type": "code",
   "execution_count": null,
   "id": "e3e3bf4b",
   "metadata": {},
   "outputs": [],
   "source": [
    "# from beginning [:6] until index 6 ...id6 not included\n",
    "\n",
    "texto = \"ABCDEFGHIJKLM\"\n",
    "extract = texto[:6]\n",
    "print(extract)"
   ]
  },
  {
   "cell_type": "code",
   "execution_count": null,
   "id": "28813d5b",
   "metadata": {},
   "outputs": [],
   "source": [
    "#from index 2 until index 10, in two steps or 2 by 2\n",
    "\n",
    "texto = \"ABCDEFGHIJKLM\"\n",
    "extract = texto[2:10:2]\n",
    "print(extract)"
   ]
  },
  {
   "cell_type": "code",
   "execution_count": null,
   "id": "7a90aa88",
   "metadata": {},
   "outputs": [],
   "source": [
    "frase = \"Nunca confíes en un ordenador que no puedas lanzar por una ventana\"\n",
    "fragmento = frase[8::3]\n",
    "\n",
    "print(fragmento)"
   ]
  },
  {
   "cell_type": "markdown",
   "id": "84223784",
   "metadata": {},
   "source": [
    "### String's Methods"
   ]
  },
  {
   "cell_type": "markdown",
   "id": "6af74460",
   "metadata": {},
   "source": [
    "#### .upper"
   ]
  },
  {
   "cell_type": "code",
   "execution_count": null,
   "id": "6088e73a",
   "metadata": {},
   "outputs": [],
   "source": [
    "text = \"Este es el texto de Federico\"\n",
    "resul = text.upper()\n",
    "print(resul)"
   ]
  },
  {
   "cell_type": "markdown",
   "id": "373e8a28",
   "metadata": {},
   "source": [
    "Convert to Capital a index position"
   ]
  },
  {
   "cell_type": "code",
   "execution_count": null,
   "id": "8530b833",
   "metadata": {},
   "outputs": [],
   "source": [
    "text = \"Este es el texto de Federico\"\n",
    "resul = text[5].upper()\n",
    "print(resul)"
   ]
  },
  {
   "cell_type": "code",
   "execution_count": null,
   "id": "915cbc15",
   "metadata": {},
   "outputs": [],
   "source": [
    "text = \"Este es el texto de Federico\"\n",
    "resul = text.lower()\n",
    "print(resul)"
   ]
  },
  {
   "cell_type": "markdown",
   "id": "be3a5a46",
   "metadata": {},
   "source": [
    "Split - empty spaces as separator"
   ]
  },
  {
   "cell_type": "code",
   "execution_count": null,
   "id": "32b563b0",
   "metadata": {},
   "outputs": [],
   "source": [
    "text = \"Este es el texto de Federico\"\n",
    "resul = text.split()\n",
    "print(resul)"
   ]
  },
  {
   "cell_type": "markdown",
   "id": "e1ae155f",
   "metadata": {},
   "source": [
    "Split - character as separator...(t)"
   ]
  },
  {
   "cell_type": "code",
   "execution_count": null,
   "id": "48752ce9",
   "metadata": {},
   "outputs": [],
   "source": [
    "text = \"Este es el texto de Federico\"\n",
    "resul = text.split(\"t\")\n",
    "print(resul)"
   ]
  },
  {
   "cell_type": "markdown",
   "id": "0a99af2c",
   "metadata": {},
   "source": [
    "Joint"
   ]
  },
  {
   "cell_type": "code",
   "execution_count": null,
   "id": "c713c2d2",
   "metadata": {},
   "outputs": [],
   "source": [
    "a = \"Aprender\"\n",
    "b = \"Python\"\n",
    "c = \"es\"\n",
    "d = \"genial\"\n",
    "e = \" \".join([a,b,c,d]) # Lista [a,b,c,d]\n",
    "print(e)"
   ]
  },
  {
   "cell_type": "markdown",
   "id": "a90d2d0d",
   "metadata": {},
   "source": [
    "Find - find a character within the string - if not found, gives -1 value."
   ]
  },
  {
   "cell_type": "code",
   "execution_count": null,
   "id": "b3a482c9",
   "metadata": {},
   "outputs": [],
   "source": [
    "text = \"Este es el texto de Federico\"\n",
    "resul = text.find(\"es\")\n",
    "print(resul)"
   ]
  },
  {
   "cell_type": "markdown",
   "id": "7eb99067",
   "metadata": {},
   "source": [
    "Replace - replace strings"
   ]
  },
  {
   "cell_type": "code",
   "execution_count": null,
   "id": "5f320db7",
   "metadata": {},
   "outputs": [],
   "source": [
    "text = \"Este es el texto de Federico\"\n",
    "resul = text.replace(\"es\", \"no es\")\n",
    "print(resul)"
   ]
  },
  {
   "cell_type": "markdown",
   "id": "30eab3a2",
   "metadata": {},
   "source": [
    "## Lists\n"
   ]
  },
  {
   "cell_type": "code",
   "execution_count": null,
   "id": "bcb1d731",
   "metadata": {},
   "outputs": [],
   "source": [
    "my_list = ['a','b','c']\n",
    "my_list2 = ['d','e','f']\n",
    "my_list3 = my_list + my_list2   #addition\n",
    "print(my_list3)"
   ]
  },
  {
   "cell_type": "code",
   "execution_count": null,
   "id": "7caaee91",
   "metadata": {},
   "outputs": [],
   "source": [
    "my_list = ['a','b','c']\n",
    "my_list2 = ['d','e','f']\n",
    "my_list3 = my_list + my_list2   \n",
    "\n",
    "my_list3[2] = \"Caro\"    # Replacing by index\n",
    "\n",
    "\n",
    "print(my_list3)"
   ]
  },
  {
   "cell_type": "code",
   "execution_count": null,
   "id": "c146851d",
   "metadata": {},
   "outputs": [],
   "source": [
    "my_list = ['a','b','c']\n",
    "my_list2 = ['d','e','f']\n",
    "my_list3 = my_list + my_list2  # Append\n",
    "my_list3.append(\"Append\")\n",
    "print(my_list3)"
   ]
  },
  {
   "cell_type": "code",
   "execution_count": null,
   "id": "dcfa0db6",
   "metadata": {},
   "outputs": [],
   "source": [
    "#.pop() take away the last component of the list if no attribute is given\n",
    "\n",
    "my_list3.pop(1)  \n",
    "print(my_list3)\n"
   ]
  },
  {
   "cell_type": "markdown",
   "id": "4ff9c44f",
   "metadata": {},
   "source": [
    "### Dictionaries"
   ]
  },
  {
   "cell_type": "code",
   "execution_count": null,
   "id": "53675064",
   "metadata": {},
   "outputs": [],
   "source": [
    "diccionario = {'c1':'valor1','c2':'valor2'}\n",
    "print(diccionario)\n"
   ]
  },
  {
   "cell_type": "code",
   "execution_count": null,
   "id": "235b2a10",
   "metadata": {},
   "outputs": [],
   "source": [
    "diccionario = {'c1':'valor1','c2':'valor2'}\n",
    "resultado = diccionario['c2']\n",
    "print(resultado)"
   ]
  },
  {
   "cell_type": "code",
   "execution_count": null,
   "id": "39e6297c",
   "metadata": {},
   "outputs": [],
   "source": [
    "cliente = {'nombre':'Juan','Apellido':'Fuentes','Peso':88,'Talla':1.76}\n",
    "consulta = (cliente['Peso'])\n",
    "print(consulta)"
   ]
  },
  {
   "cell_type": "code",
   "execution_count": null,
   "id": "dd1ef844",
   "metadata": {},
   "outputs": [],
   "source": [
    "dic = {'c1':55,'c2':[10,20,30],'c3':{'s1':100,'s2':200}}\n",
    "print(dic['c1'])"
   ]
  },
  {
   "cell_type": "code",
   "execution_count": null,
   "id": "78cf9f43",
   "metadata": {},
   "outputs": [],
   "source": [
    "dic = {'c1':55,'c2':[10,20,30],'c3':{'s1':100,'s2':200}}\n",
    "print(dic['c2'][1])"
   ]
  },
  {
   "cell_type": "code",
   "execution_count": null,
   "id": "47a1bf88",
   "metadata": {},
   "outputs": [],
   "source": [
    "dic = {'c1':55,'c2':[10,20,30],'c3':{'s1':100,'s2':200}}\n",
    "print(dic['c3']['s2'])"
   ]
  },
  {
   "cell_type": "markdown",
   "id": "a9b54f58",
   "metadata": {},
   "source": [
    "##### Add/agregar element"
   ]
  },
  {
   "cell_type": "code",
   "execution_count": null,
   "id": "dcac70cc",
   "metadata": {},
   "outputs": [],
   "source": [
    "dic = {1:'a',2:'b'}\n",
    "print(dic)"
   ]
  },
  {
   "cell_type": "code",
   "execution_count": null,
   "id": "6103b041",
   "metadata": {},
   "outputs": [],
   "source": [
    "dic[3] = 'c'\n",
    "print(dic)"
   ]
  },
  {
   "cell_type": "code",
   "execution_count": null,
   "id": "e366ee12",
   "metadata": {},
   "outputs": [],
   "source": [
    "print(dic.keys())"
   ]
  },
  {
   "cell_type": "code",
   "execution_count": null,
   "id": "80dd94c6",
   "metadata": {},
   "outputs": [],
   "source": [
    "print(dic.values())"
   ]
  },
  {
   "cell_type": "code",
   "execution_count": null,
   "id": "c2c26a8c",
   "metadata": {},
   "outputs": [],
   "source": [
    "print(dic.items())"
   ]
  },
  {
   "cell_type": "markdown",
   "id": "6bb23f61",
   "metadata": {},
   "source": [
    "### Exercise 3"
   ]
  },
  {
   "cell_type": "code",
   "execution_count": null,
   "id": "65137422",
   "metadata": {},
   "outputs": [],
   "source": [
    "mi_dic = {\"nombre\":\"Karen\", \"apellido\":\"Jurgens\", \"edad\":35, \"ocupacion\":\"Periodista\"}\n",
    "mi_dic['edad'] = 36\n",
    "mi_dic['ocupacion'] = \"Editora\"\n",
    "mi_dic['pais'] = \"Colombia\"\n",
    "print(mi_dic)"
   ]
  },
  {
   "cell_type": "markdown",
   "id": "10d20d4d",
   "metadata": {},
   "source": [
    "### Tuple"
   ]
  },
  {
   "cell_type": "code",
   "execution_count": null,
   "id": "558cc311",
   "metadata": {},
   "outputs": [],
   "source": []
  },
  {
   "cell_type": "code",
   "execution_count": null,
   "id": "0511ee28",
   "metadata": {},
   "outputs": [],
   "source": [
    "mi_tupla = (1, 2, 3, 2, 3, 1, 3, 2, 3, 3, 3, 1, 3, 2, 2, 1, 3, 2)\n",
    "print(mi_tupla.count(2))"
   ]
  },
  {
   "cell_type": "markdown",
   "id": "e65182ff",
   "metadata": {},
   "source": [
    "### Sets"
   ]
  },
  {
   "cell_type": "code",
   "execution_count": null,
   "id": "8a3c1b98",
   "metadata": {},
   "outputs": [],
   "source": []
  }
 ],
 "metadata": {
  "kernelspec": {
   "display_name": "Python 3 (ipykernel)",
   "language": "python",
   "name": "python3"
  },
  "language_info": {
   "codemirror_mode": {
    "name": "ipython",
    "version": 3
   },
   "file_extension": ".py",
   "mimetype": "text/x-python",
   "name": "python",
   "nbconvert_exporter": "python",
   "pygments_lexer": "ipython3",
   "version": "3.11.4"
  }
 },
 "nbformat": 4,
 "nbformat_minor": 5
}
